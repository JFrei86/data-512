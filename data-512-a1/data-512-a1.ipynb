{
 "metadata": {
  "language_info": {
   "codemirror_mode": {
    "name": "ipython",
    "version": 3
   },
   "file_extension": ".py",
   "mimetype": "text/x-python",
   "name": "python",
   "nbconvert_exporter": "python",
   "pygments_lexer": "ipython3",
   "version": "3.7.0-final"
  },
  "orig_nbformat": 2,
  "kernelspec": {
   "name": "Python 3.7.0 64-bit",
   "display_name": "Python 3.7.0 64-bit",
   "metadata": {
    "interpreter": {
     "hash": "a8ff6426d6e1ee3092b1f5a6be19526b7c3965fd9f84f38d98240df774477821"
    }
   }
  }
 },
 "nbformat": 4,
 "nbformat_minor": 2,
 "cells": [
  {
   "source": [
    "import json\n",
    "import requests\n",
    "\n",
    "endpoint_legacy = 'https://wikimedia.org/api/rest_v1/metrics/legacy/pagecounts/aggregate/{project}/{access-site}/{granularity}/{start}/{end}'\n",
    "\n",
    "endpoint_pageviews = 'https://wikimedia.org/api/rest_v1/metrics/pageviews/aggregate/{project}/{access}/{agent}/{granularity}/{start}/{end}'"
   ],
   "cell_type": "code",
   "metadata": {},
   "execution_count": 1,
   "outputs": []
  },
  {
   "cell_type": "code",
   "execution_count": 2,
   "metadata": {},
   "outputs": [],
   "source": [
    "# accessType = all-sites, desktop-site, mobile-site\n",
    "def getLegacyParams(accessType):\n",
    "    return {\"project\" : \"en.wikipedia.org\",\n",
    "            \"access-site\" : accessType,\n",
    "            \"granularity\" : \"monthly\",\n",
    "            \"start\" : \"2001010100\",\n",
    "        # for end use 1st day of month following final month of data\n",
    "            \"end\" : \"2020100100\"\n",
    "            }\n",
    "\n",
    "# accessType = all-access, desktop, mobile-app, mobile-web\n",
    "def getPageViewParams(accessType):\n",
    "    return {\"project\" : \"en.wikipedia.org\",\n",
    "            \"access\" : accessType,\n",
    "            \"agent\" : \"user\",\n",
    "            \"granularity\" : \"monthly\",\n",
    "            \"start\" : \"2001010100\",\n",
    "            # for end use 1st day of month following final month of data\n",
    "            \"end\" : '2020101000'\n",
    "                }\n",
    "\n",
    "# Customize these with your own information\n",
    "headers = {\n",
    "    'User-Agent': 'https://github.com/jfrei86',\n",
    "    'From': 'jefre@uw.edu'\n",
    "}"
   ]
  },
  {
   "cell_type": "code",
   "execution_count": 3,
   "metadata": {},
   "outputs": [],
   "source": [
    "def api_call(endpoint,parameters):\n",
    "    call = requests.get(endpoint.format(**parameters), headers=headers)\n",
    "    response = call.json()\n",
    "    \n",
    "    return response"
   ]
  },
  {
   "cell_type": "code",
   "execution_count": 4,
   "metadata": {},
   "outputs": [],
   "source": [
    "def getJsonFileName(apiname, accesstype, firstmonth, lastmonth):\n",
    "    return '_'.join([apiname, accesstype, firstmonth]) + '-' + lastmonth + '.json'\n",
    "\n",
    "def getCsvFileName():\n",
    "    return 'en-wikipedia_traffic_200712-202008.csv'"
   ]
  },
  {
   "source": [
    "### Step 1: Download data"
   ],
   "cell_type": "markdown",
   "metadata": {}
  },
  {
   "cell_type": "code",
   "execution_count": 5,
   "metadata": {},
   "outputs": [],
   "source": [
    "apiName = ['pageviews', 'legacy']\n",
    "accessTypeLegacy = ['desktop-site', 'mobile-site']\n",
    "accessTypePageViews = ['desktop', 'mobile-app', 'mobile-web']\n",
    "\n",
    "for accessType in accessTypeLegacy:\n",
    "    results = api_call(endpoint_legacy, getLegacyParams(accessType))\n",
    "    # Writing to sample.json \n",
    "    with open(getJsonFileName('legacy', accessType, results['items'][0]['timestamp'], results['items'][-1]['timestamp']), \"w\") as outfile: \n",
    "        outfile.write(json.dumps(results))\n",
    "\n",
    "for accessType in accessTypePageViews:\n",
    "    results = api_call(endpoint_pageviews, getPageViewParams(accessType))\n",
    "    # Writing to sample.json \n",
    "    with open(getJsonFileName('pageviews', accessType, results['items'][0]['timestamp'], results['items'][-1]['timestamp']), \"w\") as outfile: \n",
    "        outfile.write(json.dumps(results)) \n",
    "\n"
   ]
  },
  {
   "source": [
    "### Step 2"
   ],
   "cell_type": "markdown",
   "metadata": {}
  },
  {
   "cell_type": "code",
   "execution_count": 26,
   "metadata": {
    "tags": []
   },
   "outputs": [],
   "source": [
    "files = ['legacy_desktop-site_2007120100-2016080100.json', 'legacy_mobile-site_2014100100-2016080100.json', 'pageviews_desktop_2015070100-2020090100.json', 'pageviews_mobile-app_2015070100-2020090100.json', 'pageviews_mobile-web_2015070100-2020090100.json']\n",
    "\n",
    "final = 'en-wikipedia_traffic_200712-202008.csv'\n",
    "rows = []\n",
    "\n",
    "for file in files:\n",
    "    with open(file) as infile:\n",
    "        result = json.load(infile)\n",
    "        for item in result['items']:\n",
    "            year = item['timestamp'][0:4]\n",
    "            month = item['timestamp'][4:6]\n",
    "            pagecount_all_views = item.get('count') if item.get('count') != None else 0\n",
    "            pagecount_desktop_views = item.get('count') if item.get('access-site') == 'desktop-site' else 0\n",
    "            pagecount_mobile_views = item.get('count') if item.get('access-site') == 'mobile-site' else 0\n",
    "            pageview_all_views = item.get('views') if item.get('views') != None else 0\n",
    "            pageview_desktop_views = item.get('views') if item.get('access') == 'desktop' else 0\n",
    "            pageview_mobile_views = item.get('views') if item.get('access') != 'desktop' and item.get('access') != None else 0\n",
    "            rows.append(','.join([year, month, str(pagecount_all_views), str(pagecount_desktop_views), str(pagecount_mobile_views), str(pageview_all_views), str(pageview_desktop_views), str(pageview_mobile_views)]))\n",
    "\n",
    "with open(final, \"w\") as outfile:\n",
    "    outfile.write('year,month,pagecount_all_views,pagecount_desktop_views,pagecount_mobile_views,pageview_all_views,pageview_desktop_views,pageview_mobile_views\\n')\n",
    "    outfile.write('\\n'.join(rows))\n",
    "\n"
   ]
  },
  {
   "cell_type": "code",
   "execution_count": 31,
   "metadata": {},
   "outputs": [],
   "source": [
    "import pandas as pd\n",
    "\n",
    "data_raw = pd.read_csv(final)\n",
    "data_cleaned = data_raw.groupby([\"year\",\"month\"]).sum()\n",
    "data_cleaned.to_csv(final)"
   ]
  },
  {
   "cell_type": "code",
   "execution_count": null,
   "metadata": {},
   "outputs": [],
   "source": []
  }
 ]
}